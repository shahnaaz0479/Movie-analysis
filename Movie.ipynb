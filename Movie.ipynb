{
 "cells": [
  {
   "cell_type": "markdown",
   "metadata": {},
   "source": [
    "### DATA VISUALIZATION"
   ]
  },
  {
   "cell_type": "markdown",
   "metadata": {},
   "source": [
    "#### Importing Needed Libraries"
   ]
  },
  {
   "cell_type": "code",
   "execution_count": 28,
   "metadata": {},
   "outputs": [],
   "source": [
    "import numpy as np\n",
    "import pandas as pd\n",
    "import matplotlib.pyplot as plt"
   ]
  },
  {
   "cell_type": "markdown",
   "metadata": {},
   "source": [
    "#### Loading the dataset"
   ]
  },
  {
   "cell_type": "code",
   "execution_count": 29,
   "metadata": {},
   "outputs": [],
   "source": [
    "df=pd.read_csv(\"/Users/shahnaaz/Desktop/College/Khacks/ML/movies.csv\");"
   ]
  },
  {
   "cell_type": "code",
   "execution_count": 30,
   "metadata": {},
   "outputs": [
    {
     "data": {
      "text/html": [
       "<div>\n",
       "<style scoped>\n",
       "    .dataframe tbody tr th:only-of-type {\n",
       "        vertical-align: middle;\n",
       "    }\n",
       "\n",
       "    .dataframe tbody tr th {\n",
       "        vertical-align: top;\n",
       "    }\n",
       "\n",
       "    .dataframe thead th {\n",
       "        text-align: right;\n",
       "    }\n",
       "</style>\n",
       "<table border=\"1\" class=\"dataframe\">\n",
       "  <thead>\n",
       "    <tr style=\"text-align: right;\">\n",
       "      <th></th>\n",
       "      <th>Unnamed: 0</th>\n",
       "      <th>Main_Genre</th>\n",
       "      <th>Genre_2</th>\n",
       "      <th>Genre_3</th>\n",
       "      <th>imdb_rating</th>\n",
       "      <th>length</th>\n",
       "      <th>rank_in_year</th>\n",
       "      <th>rating</th>\n",
       "      <th>studio</th>\n",
       "      <th>title</th>\n",
       "      <th>worldwide_gross</th>\n",
       "      <th>year</th>\n",
       "    </tr>\n",
       "  </thead>\n",
       "  <tbody>\n",
       "    <tr>\n",
       "      <th>0</th>\n",
       "      <td>0</td>\n",
       "      <td>Action</td>\n",
       "      <td>Adventure</td>\n",
       "      <td>Drama</td>\n",
       "      <td>7.4</td>\n",
       "      <td>135</td>\n",
       "      <td>1</td>\n",
       "      <td>PG-13</td>\n",
       "      <td>Walt Disney Pictures</td>\n",
       "      <td>Black Panther</td>\n",
       "      <td>700059566.0</td>\n",
       "      <td>2018</td>\n",
       "    </tr>\n",
       "    <tr>\n",
       "      <th>1</th>\n",
       "      <td>1</td>\n",
       "      <td>Action</td>\n",
       "      <td>Adventure</td>\n",
       "      <td>Sci-Fi</td>\n",
       "      <td>8.5</td>\n",
       "      <td>156</td>\n",
       "      <td>2</td>\n",
       "      <td>PG-13</td>\n",
       "      <td>Walt Disney Pictures</td>\n",
       "      <td>Avengers: Infinity War</td>\n",
       "      <td>678815482.0</td>\n",
       "      <td>2018</td>\n",
       "    </tr>\n",
       "    <tr>\n",
       "      <th>2</th>\n",
       "      <td>2</td>\n",
       "      <td>Animation</td>\n",
       "      <td>Action</td>\n",
       "      <td>Adventure</td>\n",
       "      <td>7.8</td>\n",
       "      <td>118</td>\n",
       "      <td>3</td>\n",
       "      <td>PG</td>\n",
       "      <td>Pixar</td>\n",
       "      <td>Incredibles 2</td>\n",
       "      <td>608581744.0</td>\n",
       "      <td>2018</td>\n",
       "    </tr>\n",
       "    <tr>\n",
       "      <th>3</th>\n",
       "      <td>3</td>\n",
       "      <td>Action</td>\n",
       "      <td>Adventure</td>\n",
       "      <td>Drama</td>\n",
       "      <td>6.2</td>\n",
       "      <td>129</td>\n",
       "      <td>4</td>\n",
       "      <td>PG-13</td>\n",
       "      <td>Universal Pictures</td>\n",
       "      <td>Jurassic World: Fallen Kingdom</td>\n",
       "      <td>416769345.0</td>\n",
       "      <td>2018</td>\n",
       "    </tr>\n",
       "    <tr>\n",
       "      <th>4</th>\n",
       "      <td>4</td>\n",
       "      <td>Action</td>\n",
       "      <td>Comedy</td>\n",
       "      <td>NaN</td>\n",
       "      <td>7.8</td>\n",
       "      <td>119</td>\n",
       "      <td>5</td>\n",
       "      <td>R</td>\n",
       "      <td>20th Century Fox</td>\n",
       "      <td>Deadpool 2</td>\n",
       "      <td>318491426.0</td>\n",
       "      <td>2018</td>\n",
       "    </tr>\n",
       "  </tbody>\n",
       "</table>\n",
       "</div>"
      ],
      "text/plain": [
       "   Unnamed: 0 Main_Genre    Genre_2    Genre_3  imdb_rating  length  \\\n",
       "0           0     Action  Adventure      Drama          7.4     135   \n",
       "1           1     Action  Adventure     Sci-Fi          8.5     156   \n",
       "2           2  Animation     Action  Adventure          7.8     118   \n",
       "3           3     Action  Adventure      Drama          6.2     129   \n",
       "4           4     Action     Comedy        NaN          7.8     119   \n",
       "\n",
       "   rank_in_year rating                studio                           title  \\\n",
       "0             1  PG-13  Walt Disney Pictures                   Black Panther   \n",
       "1             2  PG-13  Walt Disney Pictures          Avengers: Infinity War   \n",
       "2             3     PG                 Pixar                   Incredibles 2   \n",
       "3             4  PG-13    Universal Pictures  Jurassic World: Fallen Kingdom   \n",
       "4             5      R      20th Century Fox                      Deadpool 2   \n",
       "\n",
       "   worldwide_gross  year  \n",
       "0      700059566.0  2018  \n",
       "1      678815482.0  2018  \n",
       "2      608581744.0  2018  \n",
       "3      416769345.0  2018  \n",
       "4      318491426.0  2018  "
      ]
     },
     "execution_count": 30,
     "metadata": {},
     "output_type": "execute_result"
    }
   ],
   "source": [
    "df.head()"
   ]
  },
  {
   "cell_type": "code",
   "execution_count": 31,
   "metadata": {},
   "outputs": [
    {
     "data": {
      "text/html": [
       "<div>\n",
       "<style scoped>\n",
       "    .dataframe tbody tr th:only-of-type {\n",
       "        vertical-align: middle;\n",
       "    }\n",
       "\n",
       "    .dataframe tbody tr th {\n",
       "        vertical-align: top;\n",
       "    }\n",
       "\n",
       "    .dataframe thead th {\n",
       "        text-align: right;\n",
       "    }\n",
       "</style>\n",
       "<table border=\"1\" class=\"dataframe\">\n",
       "  <thead>\n",
       "    <tr style=\"text-align: right;\">\n",
       "      <th></th>\n",
       "      <th>Unnamed: 0</th>\n",
       "      <th>imdb_rating</th>\n",
       "      <th>length</th>\n",
       "      <th>rank_in_year</th>\n",
       "      <th>worldwide_gross</th>\n",
       "      <th>year</th>\n",
       "    </tr>\n",
       "  </thead>\n",
       "  <tbody>\n",
       "    <tr>\n",
       "      <th>count</th>\n",
       "      <td>437.000000</td>\n",
       "      <td>437.000000</td>\n",
       "      <td>437.000000</td>\n",
       "      <td>437.000000</td>\n",
       "      <td>4.370000e+02</td>\n",
       "      <td>437.000000</td>\n",
       "    </tr>\n",
       "    <tr>\n",
       "      <th>mean</th>\n",
       "      <td>218.000000</td>\n",
       "      <td>7.076659</td>\n",
       "      <td>119.871854</td>\n",
       "      <td>5.524027</td>\n",
       "      <td>3.902409e+08</td>\n",
       "      <td>1996.647597</td>\n",
       "    </tr>\n",
       "    <tr>\n",
       "      <th>std</th>\n",
       "      <td>126.295289</td>\n",
       "      <td>0.820273</td>\n",
       "      <td>22.744332</td>\n",
       "      <td>2.869884</td>\n",
       "      <td>3.158344e+08</td>\n",
       "      <td>12.630396</td>\n",
       "    </tr>\n",
       "    <tr>\n",
       "      <th>min</th>\n",
       "      <td>0.000000</td>\n",
       "      <td>4.400000</td>\n",
       "      <td>27.000000</td>\n",
       "      <td>1.000000</td>\n",
       "      <td>3.467310e+07</td>\n",
       "      <td>1975.000000</td>\n",
       "    </tr>\n",
       "    <tr>\n",
       "      <th>25%</th>\n",
       "      <td>109.000000</td>\n",
       "      <td>6.500000</td>\n",
       "      <td>103.000000</td>\n",
       "      <td>3.000000</td>\n",
       "      <td>1.239224e+08</td>\n",
       "      <td>1986.000000</td>\n",
       "    </tr>\n",
       "    <tr>\n",
       "      <th>50%</th>\n",
       "      <td>218.000000</td>\n",
       "      <td>7.100000</td>\n",
       "      <td>118.000000</td>\n",
       "      <td>6.000000</td>\n",
       "      <td>3.342011e+08</td>\n",
       "      <td>1997.000000</td>\n",
       "    </tr>\n",
       "    <tr>\n",
       "      <th>75%</th>\n",
       "      <td>327.000000</td>\n",
       "      <td>7.700000</td>\n",
       "      <td>134.000000</td>\n",
       "      <td>8.000000</td>\n",
       "      <td>5.537098e+08</td>\n",
       "      <td>2008.000000</td>\n",
       "    </tr>\n",
       "    <tr>\n",
       "      <th>max</th>\n",
       "      <td>436.000000</td>\n",
       "      <td>9.000000</td>\n",
       "      <td>201.000000</td>\n",
       "      <td>10.000000</td>\n",
       "      <td>2.749064e+09</td>\n",
       "      <td>2018.000000</td>\n",
       "    </tr>\n",
       "  </tbody>\n",
       "</table>\n",
       "</div>"
      ],
      "text/plain": [
       "       Unnamed: 0  imdb_rating      length  rank_in_year  worldwide_gross  \\\n",
       "count  437.000000   437.000000  437.000000    437.000000     4.370000e+02   \n",
       "mean   218.000000     7.076659  119.871854      5.524027     3.902409e+08   \n",
       "std    126.295289     0.820273   22.744332      2.869884     3.158344e+08   \n",
       "min      0.000000     4.400000   27.000000      1.000000     3.467310e+07   \n",
       "25%    109.000000     6.500000  103.000000      3.000000     1.239224e+08   \n",
       "50%    218.000000     7.100000  118.000000      6.000000     3.342011e+08   \n",
       "75%    327.000000     7.700000  134.000000      8.000000     5.537098e+08   \n",
       "max    436.000000     9.000000  201.000000     10.000000     2.749064e+09   \n",
       "\n",
       "              year  \n",
       "count   437.000000  \n",
       "mean   1996.647597  \n",
       "std      12.630396  \n",
       "min    1975.000000  \n",
       "25%    1986.000000  \n",
       "50%    1997.000000  \n",
       "75%    2008.000000  \n",
       "max    2018.000000  "
      ]
     },
     "execution_count": 31,
     "metadata": {},
     "output_type": "execute_result"
    }
   ],
   "source": [
    "df.describe()"
   ]
  },
  {
   "cell_type": "code",
   "execution_count": 32,
   "metadata": {},
   "outputs": [
    {
     "data": {
      "text/plain": [
       "(437, 12)"
      ]
     },
     "execution_count": 32,
     "metadata": {},
     "output_type": "execute_result"
    }
   ],
   "source": [
    "df.shape"
   ]
  },
  {
   "cell_type": "markdown",
   "metadata": {},
   "source": [
    "### Creating bar graph"
   ]
  },
  {
   "cell_type": "code",
   "execution_count": 33,
   "metadata": {},
   "outputs": [
    {
     "data": {
      "image/png": "[encoded data removed]",
      "text/plain": [
       "<Figure size 432x288 with 1 Axes>"
      ]
     },
     "metadata": {
      "needs_background": "light"
     },
     "output_type": "display_data"
    }
   ],
   "source": [
    "plt.bar(df.Main_Genre,df.imdb_rating)\n",
    "plt.xticks(rotation='vertical')\n",
    "plt.show()"
   ]
  },
  {
   "cell_type": "markdown",
   "metadata": {},
   "source": [
    "### Creating Scatter Plot"
   ]
  },
  {
   "cell_type": "code",
   "execution_count": 34,
   "metadata": {},
   "outputs": [
    {
     "data": {
      "image/png": "[encoded data removed]",
      "text/plain": [
       "<Figure size 432x288 with 1 Axes>"
      ]
     },
     "metadata": {
      "needs_background": "light"
     },
     "output_type": "display_data"
    }
   ],
   "source": [
    "plt.scatter(df.imdb_rating,df.worldwide_gross,color='green')\n",
    "plt.title('IMDB Rating')\n",
    "plt.xlabel('IMDB rating')\n",
    "plt.ylabel('world wide gross')\n",
    "plt.grid(True)\n",
    "plt.show()"
   ]
  },
  {
   "cell_type": "markdown",
   "metadata": {},
   "source": [
    "### <font color='orange'> Wanted to know the higest rated movie </font>"
   ]
  },
  {
   "cell_type": "code",
   "execution_count": 35,
   "metadata": {},
   "outputs": [
    {
     "data": {
      "text/plain": [
       "2749064328.0"
      ]
     },
     "execution_count": 35,
     "metadata": {},
     "output_type": "execute_result"
    }
   ],
   "source": [
    "df.worldwide_gross.max()"
   ]
  },
  {
   "cell_type": "code",
   "execution_count": 36,
   "metadata": {},
   "outputs": [
    {
     "data": {
      "text/html": [
       "<div>\n",
       "<style scoped>\n",
       "    .dataframe tbody tr th:only-of-type {\n",
       "        vertical-align: middle;\n",
       "    }\n",
       "\n",
       "    .dataframe tbody tr th {\n",
       "        vertical-align: top;\n",
       "    }\n",
       "\n",
       "    .dataframe thead th {\n",
       "        text-align: right;\n",
       "    }\n",
       "</style>\n",
       "<table border=\"1\" class=\"dataframe\">\n",
       "  <thead>\n",
       "    <tr style=\"text-align: right;\">\n",
       "      <th></th>\n",
       "      <th>Unnamed: 0</th>\n",
       "      <th>Main_Genre</th>\n",
       "      <th>Genre_2</th>\n",
       "      <th>Genre_3</th>\n",
       "      <th>imdb_rating</th>\n",
       "      <th>length</th>\n",
       "      <th>rank_in_year</th>\n",
       "      <th>rating</th>\n",
       "      <th>studio</th>\n",
       "      <th>title</th>\n",
       "      <th>worldwide_gross</th>\n",
       "      <th>year</th>\n",
       "    </tr>\n",
       "  </thead>\n",
       "  <tbody>\n",
       "    <tr>\n",
       "      <th>90</th>\n",
       "      <td>90</td>\n",
       "      <td>Fantasy</td>\n",
       "      <td>Adventure</td>\n",
       "      <td>Action</td>\n",
       "      <td>7.9</td>\n",
       "      <td>162</td>\n",
       "      <td>1</td>\n",
       "      <td>PG-13</td>\n",
       "      <td>20th Century Fox</td>\n",
       "      <td>Avatar</td>\n",
       "      <td>2.749064e+09</td>\n",
       "      <td>2009</td>\n",
       "    </tr>\n",
       "  </tbody>\n",
       "</table>\n",
       "</div>"
      ],
      "text/plain": [
       "    Unnamed: 0 Main_Genre    Genre_2 Genre_3  imdb_rating  length  \\\n",
       "90          90    Fantasy  Adventure  Action          7.9     162   \n",
       "\n",
       "    rank_in_year rating            studio   title  worldwide_gross  year  \n",
       "90             1  PG-13  20th Century Fox  Avatar     2.749064e+09  2009  "
      ]
     },
     "execution_count": 36,
     "metadata": {},
     "output_type": "execute_result"
    }
   ],
   "source": [
    "df.loc[df['worldwide_gross']==2749064328.0]"
   ]
  },
  {
   "cell_type": "code",
   "execution_count": 37,
   "metadata": {},
   "outputs": [
    {
     "data": {
      "text/plain": [
       "Warner Bros                      87\n",
       "Walt Disney Pictures             65\n",
       "Paramount Pictures               58\n",
       "Universal Pictures               56\n",
       "20th Century Fox                 48\n",
       "Columbia Pictures                36\n",
       "Metro-Goldwyn-Mayer              34\n",
       "Sony Pictures                    17\n",
       "DreamWorks                       12\n",
       "Lionsgate Films                  10\n",
       "Pixar                             9\n",
       "IFC Films                         1\n",
       "Embassy Pictures                  1\n",
       "Newmarket Films                   1\n",
       "Sunn Classic Pictures             1\n",
       "National Air and Space Museum     1\n",
       "Name: studio, dtype: int64"
      ]
     },
     "execution_count": 37,
     "metadata": {},
     "output_type": "execute_result"
    }
   ],
   "source": [
    "df['studio'].value_counts()"
   ]
  },
  {
   "cell_type": "code",
   "execution_count": 38,
   "metadata": {},
   "outputs": [
    {
     "data": {
      "text/plain": [
       "<matplotlib.axes._subplots.AxesSubplot at 0x11b20f0b8>"
      ]
     },
     "execution_count": 38,
     "metadata": {},
     "output_type": "execute_result"
    },
    {
     "data": {
      "image/png": "[encoded data removed]",
      "text/plain": [
       "<Figure size 432x288 with 1 Axes>"
      ]
     },
     "metadata": {
      "needs_background": "light"
     },
     "output_type": "display_data"
    }
   ],
   "source": [
    "df['studio'].value_counts().plot(kind='bar')"
   ]
  },
  {
   "cell_type": "code",
   "execution_count": 39,
   "metadata": {},
   "outputs": [
    {
     "name": "stdout",
     "output_type": "stream",
     "text": [
      "Thriller     63\n",
      "Comedy       55\n",
      "Fantasy      54\n",
      "Sci-Fi       50\n",
      "Romance      48\n",
      "Drama        30\n",
      "Action       30\n",
      "Animation    22\n",
      "Crime        17\n",
      "Family       16\n",
      "Adventure    13\n",
      "War          10\n",
      "Music         9\n",
      "Horror        8\n",
      "Sport         7\n",
      "History       5\n",
      "Name: Main_Genre, dtype: int64\n"
     ]
    }
   ],
   "source": [
    "g=df['Main_Genre'].value_counts()\n",
    "print(g)\n",
    "h=['Thriller','Comedy','Fantasy','Sci-Fi','Romance','Drama','Action','Animation','Crime','Family','Adventure','War','Music','Horror','Sport','History']"
   ]
  },
  {
   "cell_type": "markdown",
   "metadata": {},
   "source": [
    "### Creating pie chart"
   ]
  },
  {
   "cell_type": "code",
   "execution_count": 40,
   "metadata": {},
   "outputs": [
    {
     "data": {
      "image/png": "[encoded data removed]",
      "text/plain": [
       "<Figure size 432x288 with 1 Axes>"
      ]
     },
     "metadata": {},
     "output_type": "display_data"
    }
   ],
   "source": [
    "plt.pie(g,labels=h)\n",
    "plt.show()"
   ]
  },
  {
   "cell_type": "markdown",
   "metadata": {},
   "source": [
    "### Creating histogram"
   ]
  },
  {
   "cell_type": "code",
   "execution_count": 41,
   "metadata": {},
   "outputs": [
    {
     "data": {
      "image/png": "[encoded data removed]",
      "text/plain": [
       "<Figure size 432x288 with 1 Axes>"
      ]
     },
     "metadata": {
      "needs_background": "light"
     },
     "output_type": "display_data"
    }
   ],
   "source": [
    "h=(df.imdb_rating)\n",
    "h.hist(color='orange')\n",
    "plt.show()"
   ]
  },
  {
   "cell_type": "code",
   "execution_count": null,
   "metadata": {},
   "outputs": [],
   "source": []
  },
  {
   "cell_type": "code",
   "execution_count": null,
   "metadata": {},
   "outputs": [],
   "source": []
  },
  {
   "cell_type": "code",
   "execution_count": null,
   "metadata": {},
   "outputs": [],
   "source": []
  }
 ],
 "metadata": {
  "kernelspec": {
   "display_name": "Python 3",
   "language": "python",
   "name": "python3"
  },
  "language_info": {
   "codemirror_mode": {
    "name": "ipython",
    "version": 3
   },
   "file_extension": ".py",
   "mimetype": "text/x-python",
   "name": "python",
   "nbconvert_exporter": "python",
   "pygments_lexer": "ipython3",
   "version": "3.7.3"
  }
 },
 "nbformat": 4,
 "nbformat_minor": 2
}
